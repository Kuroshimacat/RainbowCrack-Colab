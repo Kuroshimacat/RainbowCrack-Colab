{
  "nbformat": 4,
  "nbformat_minor": 0,
  "metadata": {
    "colab": {
      "provenance": [],
      "authorship_tag": "ABX9TyMmUoUFjlkVdmCspvaMFNf1",
      "include_colab_link": true
    },
    "kernelspec": {
      "name": "python3",
      "display_name": "Python 3"
    },
    "language_info": {
      "name": "python"
    }
  },
  "cells": [
    {
      "cell_type": "markdown",
      "metadata": {
        "id": "view-in-github",
        "colab_type": "text"
      },
      "source": [
        "<a href=\"https://colab.research.google.com/github/Kuroshimacat/RainbowCrack-Colab/blob/main/Rainbow_Crack.ipynb\" target=\"_parent\"><img src=\"https://colab.research.google.com/assets/colab-badge.svg\" alt=\"Open In Colab\"/></a>"
      ]
    },
    {
      "cell_type": "markdown",
      "source": [
        "# Rainbow Crack\n",
        "本colab记事本用于计算彩虹表，作者：KuroshimaCat"
      ],
      "metadata": {
        "id": "md6RSAoWiGCx"
      }
    },
    {
      "cell_type": "markdown",
      "source": [
        "## 下载和解压软件\n",
        "若文件浏览器中有rainbow的程序即为成功"
      ],
      "metadata": {
        "id": "9I6psfwOikC1"
      }
    },
    {
      "cell_type": "code",
      "source": [
        "import os\n",
        "os.system(\"wget http://project-rainbowcrack.com/rainbowcrack-1.8-linux64-gpu.zip\")\n",
        "os.system(\"unzip rainbowcrack-1.8-linux64-gpu.zip\")\n",
        "os.system(\"rm rainbowcrack-1.8-linux64-gpu.zip\")\n",
        "os.system(\"wget http://project-rainbowcrack.com/rainbowcrack-1.8-linux64.zip\")\n",
        "os.system(\"unzip rainbowcrack-1.8-linux64.zip\")\n",
        "os.system(\"mv /content/rainbowcrack-1.8-linux64-gpu/rcrack_cuda /content/rainbowcrack-1.8-linux64\")\n",
        "os.system(\"rm -rf /content/rainbowcrack-1.8-linux64-gpu\")\n",
        "os.system(\"rm /content/rainbowcrack-1.8-linux64.zip\")\n",
        "print(\"Done\")"
      ],
      "metadata": {
        "id": "c-sqmBG3iiYM"
      },
      "execution_count": null,
      "outputs": []
    },
    {
      "cell_type": "markdown",
      "source": [
        "## 生成彩虹表"
      ],
      "metadata": {
        "id": "u0TuBttnpCvg"
      }
    },
    {
      "cell_type": "code",
      "source": [
        "os.chdir(\"/content/rainbowcrack-1.8-linux64\")\n",
        "os.getcwd()"
      ],
      "metadata": {
        "id": "f-2lT8PsC_Wb"
      },
      "execution_count": null,
      "outputs": []
    }
  ]
}